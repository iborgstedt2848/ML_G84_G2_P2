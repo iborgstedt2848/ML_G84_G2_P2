{
  "nbformat": 4,
  "nbformat_minor": 0,
  "metadata": {
    "colab": {
      "provenance": [],
      "authorship_tag": "ABX9TyOQd/uBfAhj3B5CmfcLKR7c",
      "include_colab_link": true
    },
    "kernelspec": {
      "name": "python3",
      "display_name": "Python 3"
    },
    "language_info": {
      "name": "python"
    }
  },
  "cells": [
    {
      "cell_type": "markdown",
      "metadata": {
        "id": "view-in-github",
        "colab_type": "text"
      },
      "source": [
        "<a href=\"https://colab.research.google.com/github/iborgstedt2848/ML_G84_G2_P2/blob/main/segunda_pr%C3%A1ctica.ipynb\" target=\"_parent\"><img src=\"https://colab.research.google.com/assets/colab-badge.svg\" alt=\"Open In Colab\"/></a>"
      ]
    },
    {
      "cell_type": "markdown",
      "source": [
        "# Segunda Práctica"
      ],
      "metadata": {
        "id": "lb4kj-sgsXgA"
      }
    },
    {
      "cell_type": "markdown",
      "source": [
        "**Autores:**\n",
        "\n",
        "---\n",
        "\n",
        "\n",
        "Luis Enrique Valero Montero - Gr. 85 - 100495982\n",
        "\n",
        "Isabelle Borgstedt - Gr. 84 - 100559990"
      ],
      "metadata": {
        "id": "6L1n6ldmsfOW"
      }
    },
    {
      "cell_type": "markdown",
      "source": [
        "# Scalers"
      ],
      "metadata": {
        "id": "dw8xzhYJsimS"
      }
    },
    {
      "cell_type": "markdown",
      "source": [
        "# K-Means"
      ],
      "metadata": {
        "id": "M_Iq6LyXuELv"
      }
    },
    {
      "cell_type": "markdown",
      "source": [
        "# Hierarchical Clustering/Dendrograms"
      ],
      "metadata": {
        "id": "jJ-o31lVuNlO"
      }
    },
    {
      "cell_type": "markdown",
      "source": [
        "# DBSCAN"
      ],
      "metadata": {
        "id": "31YtLmg8uaBh"
      }
    },
    {
      "cell_type": "markdown",
      "source": [
        "# Análisis"
      ],
      "metadata": {
        "id": "BTFB5BlpufNM"
      }
    },
    {
      "cell_type": "markdown",
      "source": [],
      "metadata": {
        "id": "9ff2tzELukTE"
      }
    }
  ]
}